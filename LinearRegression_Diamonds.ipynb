{
 "cells": [
  {
   "cell_type": "code",
   "execution_count": 1,
   "id": "8b92b3fe",
   "metadata": {
    "ExecuteTime": {
     "end_time": "2023-02-17T19:22:37.184139Z",
     "start_time": "2023-02-17T19:22:34.436112Z"
    }
   },
   "outputs": [],
   "source": [
    "# importing libraries\n",
    "import pandas as pd\n",
    "import numpy as np\n",
    "import seaborn as sns\n",
    "import matplotlib.pyplot as plt\n",
    "from sklearn.linear_model import LinearRegression\n",
    "from sklearn.preprocessing import StandardScaler\n",
    "from sklearn.linear_model import RANSACRegressor\n",
    "from sklearn.linear_model import HuberRegressor"
   ]
  },
  {
   "cell_type": "code",
   "execution_count": 2,
   "id": "a39ae2dd",
   "metadata": {
    "ExecuteTime": {
     "end_time": "2023-02-17T19:22:37.247630Z",
     "start_time": "2023-02-17T19:22:37.185295Z"
    }
   },
   "outputs": [],
   "source": [
    "# reading historical file\n",
    "diamonds = pd.read_csv(r\"C:\\Users\\Vanessa\\Downloads\\Dados\\Programas\\Repositório Git\\LinearRegression_Diamonds\\LinearRegression_Diamonds\\diamonds.csv\")"
   ]
  },
  {
   "cell_type": "code",
   "execution_count": 3,
   "id": "f97cbe18",
   "metadata": {
    "ExecuteTime": {
     "end_time": "2023-02-17T19:22:37.278711Z",
     "start_time": "2023-02-17T19:22:37.250233Z"
    },
    "cell_style": "split",
    "scrolled": true
   },
   "outputs": [
    {
     "data": {
      "text/html": [
       "<div>\n",
       "<style scoped>\n",
       "    .dataframe tbody tr th:only-of-type {\n",
       "        vertical-align: middle;\n",
       "    }\n",
       "\n",
       "    .dataframe tbody tr th {\n",
       "        vertical-align: top;\n",
       "    }\n",
       "\n",
       "    .dataframe thead th {\n",
       "        text-align: right;\n",
       "    }\n",
       "</style>\n",
       "<table border=\"1\" class=\"dataframe\">\n",
       "  <thead>\n",
       "    <tr style=\"text-align: right;\">\n",
       "      <th></th>\n",
       "      <th>carat</th>\n",
       "      <th>cut</th>\n",
       "      <th>color</th>\n",
       "      <th>clarity</th>\n",
       "      <th>depth</th>\n",
       "      <th>table</th>\n",
       "      <th>price</th>\n",
       "      <th>x</th>\n",
       "      <th>y</th>\n",
       "      <th>z</th>\n",
       "    </tr>\n",
       "  </thead>\n",
       "  <tbody>\n",
       "    <tr>\n",
       "      <th>0</th>\n",
       "      <td>0.21</td>\n",
       "      <td>Premium</td>\n",
       "      <td>E</td>\n",
       "      <td>SI1</td>\n",
       "      <td>59.8</td>\n",
       "      <td>61.0</td>\n",
       "      <td>326</td>\n",
       "      <td>3.89</td>\n",
       "      <td>3.84</td>\n",
       "      <td>2.31</td>\n",
       "    </tr>\n",
       "    <tr>\n",
       "      <th>1</th>\n",
       "      <td>0.23</td>\n",
       "      <td>Good</td>\n",
       "      <td>E</td>\n",
       "      <td>VS1</td>\n",
       "      <td>56.9</td>\n",
       "      <td>65.0</td>\n",
       "      <td>327</td>\n",
       "      <td>4.05</td>\n",
       "      <td>4.07</td>\n",
       "      <td>2.31</td>\n",
       "    </tr>\n",
       "    <tr>\n",
       "      <th>2</th>\n",
       "      <td>0.29</td>\n",
       "      <td>Premium</td>\n",
       "      <td>I</td>\n",
       "      <td>VS2</td>\n",
       "      <td>62.4</td>\n",
       "      <td>58.0</td>\n",
       "      <td>334</td>\n",
       "      <td>4.20</td>\n",
       "      <td>4.23</td>\n",
       "      <td>2.63</td>\n",
       "    </tr>\n",
       "    <tr>\n",
       "      <th>3</th>\n",
       "      <td>0.31</td>\n",
       "      <td>Good</td>\n",
       "      <td>J</td>\n",
       "      <td>SI2</td>\n",
       "      <td>63.3</td>\n",
       "      <td>58.0</td>\n",
       "      <td>335</td>\n",
       "      <td>4.34</td>\n",
       "      <td>4.35</td>\n",
       "      <td>2.75</td>\n",
       "    </tr>\n",
       "    <tr>\n",
       "      <th>4</th>\n",
       "      <td>0.24</td>\n",
       "      <td>Very Good</td>\n",
       "      <td>J</td>\n",
       "      <td>VVS2</td>\n",
       "      <td>62.8</td>\n",
       "      <td>57.0</td>\n",
       "      <td>336</td>\n",
       "      <td>3.94</td>\n",
       "      <td>3.96</td>\n",
       "      <td>2.48</td>\n",
       "    </tr>\n",
       "  </tbody>\n",
       "</table>\n",
       "</div>"
      ],
      "text/plain": [
       "   carat        cut color clarity  depth  table  price     x     y     z\n",
       "0   0.21    Premium     E     SI1   59.8   61.0    326  3.89  3.84  2.31\n",
       "1   0.23       Good     E     VS1   56.9   65.0    327  4.05  4.07  2.31\n",
       "2   0.29    Premium     I     VS2   62.4   58.0    334  4.20  4.23  2.63\n",
       "3   0.31       Good     J     SI2   63.3   58.0    335  4.34  4.35  2.75\n",
       "4   0.24  Very Good     J    VVS2   62.8   57.0    336  3.94  3.96  2.48"
      ]
     },
     "execution_count": 3,
     "metadata": {},
     "output_type": "execute_result"
    }
   ],
   "source": [
    "# exploratory analysis of historical file\n",
    "diamonds.head()"
   ]
  },
  {
   "cell_type": "code",
   "execution_count": 4,
   "id": "43b408b9",
   "metadata": {
    "ExecuteTime": {
     "end_time": "2023-02-17T19:22:37.294269Z",
     "start_time": "2023-02-17T19:22:37.280219Z"
    },
    "cell_style": "split"
   },
   "outputs": [
    {
     "data": {
      "text/plain": [
       "Index(['carat', 'cut', 'color', 'clarity', 'depth', 'table', 'price', 'x', 'y',\n",
       "       'z'],\n",
       "      dtype='object')"
      ]
     },
     "execution_count": 4,
     "metadata": {},
     "output_type": "execute_result"
    }
   ],
   "source": [
    "diamonds.columns"
   ]
  },
  {
   "cell_type": "code",
   "execution_count": 5,
   "id": "5439f0ec",
   "metadata": {
    "ExecuteTime": {
     "end_time": "2023-02-17T19:22:37.324415Z",
     "start_time": "2023-02-17T19:22:37.296675Z"
    },
    "cell_style": "split",
    "scrolled": false
   },
   "outputs": [
    {
     "data": {
      "text/html": [
       "<div>\n",
       "<style scoped>\n",
       "    .dataframe tbody tr th:only-of-type {\n",
       "        vertical-align: middle;\n",
       "    }\n",
       "\n",
       "    .dataframe tbody tr th {\n",
       "        vertical-align: top;\n",
       "    }\n",
       "\n",
       "    .dataframe thead th {\n",
       "        text-align: right;\n",
       "    }\n",
       "</style>\n",
       "<table border=\"1\" class=\"dataframe\">\n",
       "  <thead>\n",
       "    <tr style=\"text-align: right;\">\n",
       "      <th></th>\n",
       "      <th>cut</th>\n",
       "      <th>color</th>\n",
       "      <th>clarity</th>\n",
       "    </tr>\n",
       "  </thead>\n",
       "  <tbody>\n",
       "    <tr>\n",
       "      <th>count</th>\n",
       "      <td>48940</td>\n",
       "      <td>48940</td>\n",
       "      <td>48940</td>\n",
       "    </tr>\n",
       "    <tr>\n",
       "      <th>unique</th>\n",
       "      <td>5</td>\n",
       "      <td>7</td>\n",
       "      <td>8</td>\n",
       "    </tr>\n",
       "    <tr>\n",
       "      <th>top</th>\n",
       "      <td>Ideal</td>\n",
       "      <td>G</td>\n",
       "      <td>SI1</td>\n",
       "    </tr>\n",
       "    <tr>\n",
       "      <th>freq</th>\n",
       "      <td>19608</td>\n",
       "      <td>10287</td>\n",
       "      <td>11832</td>\n",
       "    </tr>\n",
       "  </tbody>\n",
       "</table>\n",
       "</div>"
      ],
      "text/plain": [
       "          cut  color clarity\n",
       "count   48940  48940   48940\n",
       "unique      5      7       8\n",
       "top     Ideal      G     SI1\n",
       "freq    19608  10287   11832"
      ]
     },
     "execution_count": 5,
     "metadata": {},
     "output_type": "execute_result"
    }
   ],
   "source": [
    "diamonds.describe(include = object)"
   ]
  },
  {
   "cell_type": "code",
   "execution_count": 6,
   "id": "cbd8c856",
   "metadata": {
    "ExecuteTime": {
     "end_time": "2023-02-17T19:22:37.371538Z",
     "start_time": "2023-02-17T19:22:37.328308Z"
    },
    "scrolled": false
   },
   "outputs": [
    {
     "data": {
      "text/html": [
       "<div>\n",
       "<style scoped>\n",
       "    .dataframe tbody tr th:only-of-type {\n",
       "        vertical-align: middle;\n",
       "    }\n",
       "\n",
       "    .dataframe tbody tr th {\n",
       "        vertical-align: top;\n",
       "    }\n",
       "\n",
       "    .dataframe thead th {\n",
       "        text-align: right;\n",
       "    }\n",
       "</style>\n",
       "<table border=\"1\" class=\"dataframe\">\n",
       "  <thead>\n",
       "    <tr style=\"text-align: right;\">\n",
       "      <th></th>\n",
       "      <th>carat</th>\n",
       "      <th>depth</th>\n",
       "      <th>table</th>\n",
       "      <th>price</th>\n",
       "      <th>x</th>\n",
       "      <th>y</th>\n",
       "      <th>z</th>\n",
       "    </tr>\n",
       "  </thead>\n",
       "  <tbody>\n",
       "    <tr>\n",
       "      <th>count</th>\n",
       "      <td>48940.000000</td>\n",
       "      <td>48940.000000</td>\n",
       "      <td>48940.000000</td>\n",
       "      <td>48940.000000</td>\n",
       "      <td>48940.000000</td>\n",
       "      <td>48940.000000</td>\n",
       "      <td>48940.000000</td>\n",
       "    </tr>\n",
       "    <tr>\n",
       "      <th>mean</th>\n",
       "      <td>0.797817</td>\n",
       "      <td>61.751931</td>\n",
       "      <td>57.451161</td>\n",
       "      <td>3934.409644</td>\n",
       "      <td>5.730712</td>\n",
       "      <td>5.734333</td>\n",
       "      <td>3.538648</td>\n",
       "    </tr>\n",
       "    <tr>\n",
       "      <th>std</th>\n",
       "      <td>0.474126</td>\n",
       "      <td>1.430026</td>\n",
       "      <td>2.233450</td>\n",
       "      <td>3989.333861</td>\n",
       "      <td>1.121920</td>\n",
       "      <td>1.145344</td>\n",
       "      <td>0.706817</td>\n",
       "    </tr>\n",
       "    <tr>\n",
       "      <th>min</th>\n",
       "      <td>0.200000</td>\n",
       "      <td>43.000000</td>\n",
       "      <td>43.000000</td>\n",
       "      <td>326.000000</td>\n",
       "      <td>0.000000</td>\n",
       "      <td>0.000000</td>\n",
       "      <td>0.000000</td>\n",
       "    </tr>\n",
       "    <tr>\n",
       "      <th>25%</th>\n",
       "      <td>0.400000</td>\n",
       "      <td>61.000000</td>\n",
       "      <td>56.000000</td>\n",
       "      <td>949.000000</td>\n",
       "      <td>4.710000</td>\n",
       "      <td>4.720000</td>\n",
       "      <td>2.910000</td>\n",
       "    </tr>\n",
       "    <tr>\n",
       "      <th>50%</th>\n",
       "      <td>0.700000</td>\n",
       "      <td>61.800000</td>\n",
       "      <td>57.000000</td>\n",
       "      <td>2401.000000</td>\n",
       "      <td>5.690000</td>\n",
       "      <td>5.710000</td>\n",
       "      <td>3.520000</td>\n",
       "    </tr>\n",
       "    <tr>\n",
       "      <th>75%</th>\n",
       "      <td>1.040000</td>\n",
       "      <td>62.500000</td>\n",
       "      <td>59.000000</td>\n",
       "      <td>5331.250000</td>\n",
       "      <td>6.540000</td>\n",
       "      <td>6.540000</td>\n",
       "      <td>4.040000</td>\n",
       "    </tr>\n",
       "    <tr>\n",
       "      <th>max</th>\n",
       "      <td>5.010000</td>\n",
       "      <td>79.000000</td>\n",
       "      <td>95.000000</td>\n",
       "      <td>18823.000000</td>\n",
       "      <td>10.740000</td>\n",
       "      <td>58.900000</td>\n",
       "      <td>31.800000</td>\n",
       "    </tr>\n",
       "  </tbody>\n",
       "</table>\n",
       "</div>"
      ],
      "text/plain": [
       "              carat         depth         table         price             x  \\\n",
       "count  48940.000000  48940.000000  48940.000000  48940.000000  48940.000000   \n",
       "mean       0.797817     61.751931     57.451161   3934.409644      5.730712   \n",
       "std        0.474126      1.430026      2.233450   3989.333861      1.121920   \n",
       "min        0.200000     43.000000     43.000000    326.000000      0.000000   \n",
       "25%        0.400000     61.000000     56.000000    949.000000      4.710000   \n",
       "50%        0.700000     61.800000     57.000000   2401.000000      5.690000   \n",
       "75%        1.040000     62.500000     59.000000   5331.250000      6.540000   \n",
       "max        5.010000     79.000000     95.000000  18823.000000     10.740000   \n",
       "\n",
       "                  y             z  \n",
       "count  48940.000000  48940.000000  \n",
       "mean       5.734333      3.538648  \n",
       "std        1.145344      0.706817  \n",
       "min        0.000000      0.000000  \n",
       "25%        4.720000      2.910000  \n",
       "50%        5.710000      3.520000  \n",
       "75%        6.540000      4.040000  \n",
       "max       58.900000     31.800000  "
      ]
     },
     "execution_count": 6,
     "metadata": {},
     "output_type": "execute_result"
    }
   ],
   "source": [
    "diamonds.describe()"
   ]
  },
  {
   "cell_type": "code",
   "execution_count": 7,
   "id": "4742a7f6",
   "metadata": {
    "ExecuteTime": {
     "end_time": "2023-02-17T19:22:37.402443Z",
     "start_time": "2023-02-17T19:22:37.374545Z"
    },
    "scrolled": false
   },
   "outputs": [
    {
     "name": "stderr",
     "output_type": "stream",
     "text": [
      "C:\\Users\\Vanessa\\AppData\\Local\\Temp\\ipykernel_21672\\188364720.py:1: FutureWarning: The default value of numeric_only in DataFrame.corr is deprecated. In a future version, it will default to False. Select only valid columns or specify the value of numeric_only to silence this warning.\n",
      "  diamonds.corr()\n"
     ]
    },
    {
     "data": {
      "text/html": [
       "<div>\n",
       "<style scoped>\n",
       "    .dataframe tbody tr th:only-of-type {\n",
       "        vertical-align: middle;\n",
       "    }\n",
       "\n",
       "    .dataframe tbody tr th {\n",
       "        vertical-align: top;\n",
       "    }\n",
       "\n",
       "    .dataframe thead th {\n",
       "        text-align: right;\n",
       "    }\n",
       "</style>\n",
       "<table border=\"1\" class=\"dataframe\">\n",
       "  <thead>\n",
       "    <tr style=\"text-align: right;\">\n",
       "      <th></th>\n",
       "      <th>carat</th>\n",
       "      <th>depth</th>\n",
       "      <th>table</th>\n",
       "      <th>price</th>\n",
       "      <th>x</th>\n",
       "      <th>y</th>\n",
       "      <th>z</th>\n",
       "    </tr>\n",
       "  </thead>\n",
       "  <tbody>\n",
       "    <tr>\n",
       "      <th>carat</th>\n",
       "      <td>1.000000</td>\n",
       "      <td>0.027074</td>\n",
       "      <td>0.181688</td>\n",
       "      <td>0.922186</td>\n",
       "      <td>0.975152</td>\n",
       "      <td>0.949687</td>\n",
       "      <td>0.951824</td>\n",
       "    </tr>\n",
       "    <tr>\n",
       "      <th>depth</th>\n",
       "      <td>0.027074</td>\n",
       "      <td>1.000000</td>\n",
       "      <td>-0.297123</td>\n",
       "      <td>-0.012037</td>\n",
       "      <td>-0.025858</td>\n",
       "      <td>-0.029903</td>\n",
       "      <td>0.094344</td>\n",
       "    </tr>\n",
       "    <tr>\n",
       "      <th>table</th>\n",
       "      <td>0.181688</td>\n",
       "      <td>-0.297123</td>\n",
       "      <td>1.000000</td>\n",
       "      <td>0.127832</td>\n",
       "      <td>0.195367</td>\n",
       "      <td>0.183362</td>\n",
       "      <td>0.150646</td>\n",
       "    </tr>\n",
       "    <tr>\n",
       "      <th>price</th>\n",
       "      <td>0.922186</td>\n",
       "      <td>-0.012037</td>\n",
       "      <td>0.127832</td>\n",
       "      <td>1.000000</td>\n",
       "      <td>0.885019</td>\n",
       "      <td>0.864059</td>\n",
       "      <td>0.860247</td>\n",
       "    </tr>\n",
       "    <tr>\n",
       "      <th>x</th>\n",
       "      <td>0.975152</td>\n",
       "      <td>-0.025858</td>\n",
       "      <td>0.195367</td>\n",
       "      <td>0.885019</td>\n",
       "      <td>1.000000</td>\n",
       "      <td>0.972447</td>\n",
       "      <td>0.969336</td>\n",
       "    </tr>\n",
       "    <tr>\n",
       "      <th>y</th>\n",
       "      <td>0.949687</td>\n",
       "      <td>-0.029903</td>\n",
       "      <td>0.183362</td>\n",
       "      <td>0.864059</td>\n",
       "      <td>0.972447</td>\n",
       "      <td>1.000000</td>\n",
       "      <td>0.948768</td>\n",
       "    </tr>\n",
       "    <tr>\n",
       "      <th>z</th>\n",
       "      <td>0.951824</td>\n",
       "      <td>0.094344</td>\n",
       "      <td>0.150646</td>\n",
       "      <td>0.860247</td>\n",
       "      <td>0.969336</td>\n",
       "      <td>0.948768</td>\n",
       "      <td>1.000000</td>\n",
       "    </tr>\n",
       "  </tbody>\n",
       "</table>\n",
       "</div>"
      ],
      "text/plain": [
       "          carat     depth     table     price         x         y         z\n",
       "carat  1.000000  0.027074  0.181688  0.922186  0.975152  0.949687  0.951824\n",
       "depth  0.027074  1.000000 -0.297123 -0.012037 -0.025858 -0.029903  0.094344\n",
       "table  0.181688 -0.297123  1.000000  0.127832  0.195367  0.183362  0.150646\n",
       "price  0.922186 -0.012037  0.127832  1.000000  0.885019  0.864059  0.860247\n",
       "x      0.975152 -0.025858  0.195367  0.885019  1.000000  0.972447  0.969336\n",
       "y      0.949687 -0.029903  0.183362  0.864059  0.972447  1.000000  0.948768\n",
       "z      0.951824  0.094344  0.150646  0.860247  0.969336  0.948768  1.000000"
      ]
     },
     "execution_count": 7,
     "metadata": {},
     "output_type": "execute_result"
    }
   ],
   "source": [
    "diamonds.corr()"
   ]
  },
  {
   "cell_type": "code",
   "execution_count": 8,
   "id": "3f375841",
   "metadata": {
    "ExecuteTime": {
     "end_time": "2023-02-17T19:22:53.523902Z",
     "start_time": "2023-02-17T19:22:37.404576Z"
    },
    "scrolled": false
   },
   "outputs": [
    {
     "data": {
      "text/plain": [
       "<seaborn.axisgrid.PairGrid at 0x23145dd29a0>"
      ]
     },
     "execution_count": 8,
     "metadata": {},
     "output_type": "execute_result"
    },
    {
     "data": {
      "image/png": "[encoded data removed]",
      "text/plain": [
       "<Figure size 1260x180 with 8 Axes>"
      ]
     },
     "metadata": {
      "needs_background": "light"
     },
     "output_type": "display_data"
    }
   ],
   "source": [
    "# ploting correlations\n",
    "sns.pairplot(diamonds,kind='reg',y_vars='price')"
   ]
  },
  {
   "cell_type": "code",
   "execution_count": 9,
   "id": "7c84a6ac",
   "metadata": {
    "ExecuteTime": {
     "end_time": "2023-02-17T19:22:53.554566Z",
     "start_time": "2023-02-17T19:22:53.525820Z"
    }
   },
   "outputs": [],
   "source": [
    "# reading Rick's file\n",
    "rick = pd.read_csv(r\"C:\\Users\\Vanessa\\Downloads\\Dados\\Programas\\Repositório Git\\LinearRegression_Diamonds\\LinearRegression_Diamonds\\rick_diamonds.csv\")"
   ]
  },
  {
   "cell_type": "code",
   "execution_count": 10,
   "id": "97025560",
   "metadata": {
    "ExecuteTime": {
     "end_time": "2023-02-17T19:22:53.570480Z",
     "start_time": "2023-02-17T19:22:53.557573Z"
    },
    "cell_style": "split",
    "scrolled": true
   },
   "outputs": [
    {
     "data": {
      "text/html": [
       "<div>\n",
       "<style scoped>\n",
       "    .dataframe tbody tr th:only-of-type {\n",
       "        vertical-align: middle;\n",
       "    }\n",
       "\n",
       "    .dataframe tbody tr th {\n",
       "        vertical-align: top;\n",
       "    }\n",
       "\n",
       "    .dataframe thead th {\n",
       "        text-align: right;\n",
       "    }\n",
       "</style>\n",
       "<table border=\"1\" class=\"dataframe\">\n",
       "  <thead>\n",
       "    <tr style=\"text-align: right;\">\n",
       "      <th></th>\n",
       "      <th>carat</th>\n",
       "      <th>cut</th>\n",
       "      <th>color</th>\n",
       "      <th>clarity</th>\n",
       "      <th>depth</th>\n",
       "      <th>table</th>\n",
       "      <th>x</th>\n",
       "      <th>y</th>\n",
       "      <th>z</th>\n",
       "    </tr>\n",
       "  </thead>\n",
       "  <tbody>\n",
       "    <tr>\n",
       "      <th>0</th>\n",
       "      <td>0.91</td>\n",
       "      <td>Very Good</td>\n",
       "      <td>H</td>\n",
       "      <td>SI2</td>\n",
       "      <td>63.4</td>\n",
       "      <td>57.0</td>\n",
       "      <td>6.10</td>\n",
       "      <td>6.18</td>\n",
       "      <td>3.89</td>\n",
       "    </tr>\n",
       "    <tr>\n",
       "      <th>1</th>\n",
       "      <td>0.38</td>\n",
       "      <td>Good</td>\n",
       "      <td>F</td>\n",
       "      <td>VS2</td>\n",
       "      <td>60.3</td>\n",
       "      <td>61.0</td>\n",
       "      <td>4.68</td>\n",
       "      <td>4.71</td>\n",
       "      <td>2.83</td>\n",
       "    </tr>\n",
       "    <tr>\n",
       "      <th>2</th>\n",
       "      <td>0.52</td>\n",
       "      <td>Ideal</td>\n",
       "      <td>H</td>\n",
       "      <td>VS2</td>\n",
       "      <td>61.8</td>\n",
       "      <td>56.0</td>\n",
       "      <td>5.19</td>\n",
       "      <td>5.16</td>\n",
       "      <td>3.20</td>\n",
       "    </tr>\n",
       "    <tr>\n",
       "      <th>3</th>\n",
       "      <td>1.10</td>\n",
       "      <td>Ideal</td>\n",
       "      <td>G</td>\n",
       "      <td>VS1</td>\n",
       "      <td>61.3</td>\n",
       "      <td>56.0</td>\n",
       "      <td>6.65</td>\n",
       "      <td>6.69</td>\n",
       "      <td>4.09</td>\n",
       "    </tr>\n",
       "    <tr>\n",
       "      <th>4</th>\n",
       "      <td>2.28</td>\n",
       "      <td>Ideal</td>\n",
       "      <td>G</td>\n",
       "      <td>SI2</td>\n",
       "      <td>61.6</td>\n",
       "      <td>57.0</td>\n",
       "      <td>8.44</td>\n",
       "      <td>8.37</td>\n",
       "      <td>5.18</td>\n",
       "    </tr>\n",
       "  </tbody>\n",
       "</table>\n",
       "</div>"
      ],
      "text/plain": [
       "   carat        cut color clarity  depth  table     x     y     z\n",
       "0   0.91  Very Good     H     SI2   63.4   57.0  6.10  6.18  3.89\n",
       "1   0.38       Good     F     VS2   60.3   61.0  4.68  4.71  2.83\n",
       "2   0.52      Ideal     H     VS2   61.8   56.0  5.19  5.16  3.20\n",
       "3   1.10      Ideal     G     VS1   61.3   56.0  6.65  6.69  4.09\n",
       "4   2.28      Ideal     G     SI2   61.6   57.0  8.44  8.37  5.18"
      ]
     },
     "execution_count": 10,
     "metadata": {},
     "output_type": "execute_result"
    }
   ],
   "source": [
    "rick.head()"
   ]
  },
  {
   "cell_type": "code",
   "execution_count": 11,
   "id": "fd2f7896",
   "metadata": {
    "ExecuteTime": {
     "end_time": "2023-02-17T19:22:53.586508Z",
     "start_time": "2023-02-17T19:22:53.573997Z"
    },
    "cell_style": "split"
   },
   "outputs": [
    {
     "data": {
      "text/plain": [
       "Index(['carat', 'cut', 'color', 'clarity', 'depth', 'table', 'x', 'y', 'z'], dtype='object')"
      ]
     },
     "execution_count": 11,
     "metadata": {},
     "output_type": "execute_result"
    }
   ],
   "source": [
    "rick.columns"
   ]
  },
  {
   "cell_type": "code",
   "execution_count": 12,
   "id": "17cb2447",
   "metadata": {
    "ExecuteTime": {
     "end_time": "2023-02-17T19:22:53.632683Z",
     "start_time": "2023-02-17T19:22:53.588501Z"
    }
   },
   "outputs": [],
   "source": [
    "### Baseline model(mean) with \"price_predicted\" column in rick's dataset\n",
    "rick['price_predicted'] =  diamonds['price'].mean()\n",
    "rick.to_csv('rick_baseline.csv')\n",
    "RMSE = 3980.713882502374"
   ]
  },
  {
   "cell_type": "code",
   "execution_count": 13,
   "id": "7a1d7c2c",
   "metadata": {
    "ExecuteTime": {
     "end_time": "2023-02-17T19:22:53.726049Z",
     "start_time": "2023-02-17T19:22:53.633686Z"
    },
    "cell_style": "split"
   },
   "outputs": [],
   "source": [
    "### Linear Regression 1\n",
    "\n",
    "model = LinearRegression()\n",
    "X = diamonds[['carat']]\n",
    "y = diamonds['price']\n",
    "model.fit(X,y)\n",
    "reg1 = model.predict(rick[['carat']])\n",
    "rick['price_predicted'] =  reg1\n",
    "rick.to_csv('regression1.csv')\n",
    "# RMSE = 1605.1517570736205"
   ]
  },
  {
   "cell_type": "code",
   "execution_count": 14,
   "id": "101d4ba8",
   "metadata": {
    "ExecuteTime": {
     "end_time": "2023-02-17T19:22:53.882119Z",
     "start_time": "2023-02-17T19:22:53.807384Z"
    },
    "cell_style": "split"
   },
   "outputs": [],
   "source": [
    "### Linear Regression 1 without outliers\n",
    "\n",
    "model = RANSACRegressor()\n",
    "X = diamonds[['carat']]\n",
    "y = diamonds['price']\n",
    "model.fit(X, y)\n",
    "reg_out1 = model.predict(rick[['carat']])\n",
    "reg_out1 = rick['price_predicted']\n",
    "rick.to_csv('regout1.csv')\n",
    "# RMSE = 1586.8"
   ]
  },
  {
   "cell_type": "code",
   "execution_count": 15,
   "id": "4eba19b1",
   "metadata": {
    "ExecuteTime": {
     "end_time": "2023-02-17T19:22:53.943138Z",
     "start_time": "2023-02-17T19:22:53.883285Z"
    },
    "cell_style": "split",
    "scrolled": true
   },
   "outputs": [],
   "source": [
    "### Linear Regression 2\n",
    "\n",
    "model = LinearRegression()\n",
    "X = diamonds[['carat', 'x']]\n",
    "y = diamonds['price']\n",
    "model.fit(X,y)\n",
    "reg2 = model.predict(rick[['carat', 'x']])\n",
    "rick['price_predicted'] =  reg2\n",
    "rick.to_csv('regression2.csv')\n",
    "# RMSE = 1591.2431608972843"
   ]
  },
  {
   "cell_type": "code",
   "execution_count": 16,
   "id": "7e365da2",
   "metadata": {
    "ExecuteTime": {
     "end_time": "2023-02-17T19:22:54.021621Z",
     "start_time": "2023-02-17T19:22:53.944207Z"
    },
    "cell_style": "split"
   },
   "outputs": [],
   "source": [
    "### Linear Regression 2 without outliers\n",
    "\n",
    "model = RANSACRegressor(random_state = 100)\n",
    "X = diamonds[['carat', 'x']]\n",
    "y = diamonds['price']\n",
    "model.fit(X, y)\n",
    "reg_out2 = model.predict(rick[['carat', 'x']])\n",
    "reg_out2 = rick['price_predicted']\n",
    "rick.to_csv('regout2.csv')\n",
    "# RMSE = 1586.85"
   ]
  },
  {
   "cell_type": "code",
   "execution_count": 17,
   "id": "2b4e25ca",
   "metadata": {
    "ExecuteTime": {
     "end_time": "2023-02-17T19:22:54.084162Z",
     "start_time": "2023-02-17T19:22:54.024626Z"
    },
    "cell_style": "split"
   },
   "outputs": [],
   "source": [
    "### Linear Regression 3\n",
    "\n",
    "model = LinearRegression()\n",
    "X = diamonds[['carat', 'x', 'y']]\n",
    "y = diamonds['price']\n",
    "model.fit(X,y)\n",
    "reg3 = model.predict(rick[['carat', 'x', 'y']])\n",
    "rick['price_predicted'] =  reg3\n",
    "rick.to_csv('regression3.csv')\n",
    "# RMSE = 1590.4"
   ]
  },
  {
   "cell_type": "code",
   "execution_count": 18,
   "id": "8127d56c",
   "metadata": {
    "ExecuteTime": {
     "end_time": "2023-02-17T19:22:54.162618Z",
     "start_time": "2023-02-17T19:22:54.085247Z"
    },
    "cell_style": "split"
   },
   "outputs": [],
   "source": [
    "### Linear Regression 3 without outliers\n",
    "\n",
    "model = RANSACRegressor(random_state = 100)\n",
    "X = diamonds[['carat', 'x', 'y']]\n",
    "y = diamonds['price']\n",
    "model.fit(X, y)\n",
    "reg_out3 = model.predict(rick[['carat', 'x', 'y']])\n",
    "reg_out3 = rick['price_predicted']\n",
    "rick.to_csv('regout3.csv')\n",
    "# RMSE = 1586.85"
   ]
  },
  {
   "cell_type": "code",
   "execution_count": 19,
   "id": "7f445f5f",
   "metadata": {
    "ExecuteTime": {
     "end_time": "2023-02-17T19:22:54.210298Z",
     "start_time": "2023-02-17T19:22:54.163683Z"
    },
    "cell_style": "split"
   },
   "outputs": [],
   "source": [
    "### Linear Regression 4\n",
    "\n",
    "model = LinearRegression()\n",
    "X = diamonds[['carat', 'x', 'y', 'z']]\n",
    "y = diamonds['price']\n",
    "model.fit(X,y)\n",
    "reg4 = model.predict(rick[['carat', 'x', 'y', 'z']])\n",
    "rick['price_predicted'] =  reg4\n",
    "rick.to_csv('regression4.csv')\n",
    "# RMSE = 1586.8"
   ]
  },
  {
   "cell_type": "code",
   "execution_count": 20,
   "id": "f6839c36",
   "metadata": {
    "ExecuteTime": {
     "end_time": "2023-02-17T19:22:54.288722Z",
     "start_time": "2023-02-17T19:22:54.212366Z"
    },
    "cell_style": "split"
   },
   "outputs": [],
   "source": [
    "### Linear Regression 4 without outliers\n",
    "\n",
    "model = RANSACRegressor(random_state = 200)\n",
    "X = diamonds[['carat', 'x', 'y', 'z']]\n",
    "y = diamonds['price']\n",
    "model.fit(X, y)\n",
    "reg_out4 = model.predict(rick[['carat', 'x', 'y', 'z']])\n",
    "reg_out4 = rick['price_predicted']\n",
    "rick.to_csv('regout4.csv')\n",
    "# RMSE = 1586.85"
   ]
  },
  {
   "cell_type": "code",
   "execution_count": 21,
   "id": "1110ef05",
   "metadata": {
    "ExecuteTime": {
     "end_time": "2023-02-17T19:22:57.647194Z",
     "start_time": "2023-02-17T19:22:54.291445Z"
    },
    "cell_style": "split",
    "scrolled": true
   },
   "outputs": [
    {
     "data": {
      "text/plain": [
       "<AxesSubplot:xlabel='carat', ylabel='price'>"
      ]
     },
     "execution_count": 21,
     "metadata": {},
     "output_type": "execute_result"
    },
    {
     "data": {
      "image/png": "[encoded data removed]",
      "text/plain": [
       "<Figure size 432x288 with 1 Axes>"
      ]
     },
     "metadata": {
      "needs_background": "light"
     },
     "output_type": "display_data"
    }
   ],
   "source": [
    "sns.regplot(x='carat', y='price', data = diamonds)"
   ]
  },
  {
   "cell_type": "code",
   "execution_count": 22,
   "id": "ac7641bf",
   "metadata": {
    "ExecuteTime": {
     "end_time": "2023-02-17T19:23:01.116063Z",
     "start_time": "2023-02-17T19:22:57.649570Z"
    },
    "cell_style": "split",
    "scrolled": true
   },
   "outputs": [
    {
     "data": {
      "text/plain": [
       "<AxesSubplot:xlabel='x', ylabel='price'>"
      ]
     },
     "execution_count": 22,
     "metadata": {},
     "output_type": "execute_result"
    },
    {
     "data": {
      "image/png": "[encoded data removed]",
      "text/plain": [
       "<Figure size 432x288 with 1 Axes>"
      ]
     },
     "metadata": {
      "needs_background": "light"
     },
     "output_type": "display_data"
    }
   ],
   "source": [
    "sns.regplot(x='x', y='price', data = diamonds)"
   ]
  },
  {
   "cell_type": "code",
   "execution_count": 23,
   "id": "7702142c",
   "metadata": {
    "ExecuteTime": {
     "end_time": "2023-02-17T19:23:04.266682Z",
     "start_time": "2023-02-17T19:23:01.118548Z"
    },
    "cell_style": "split",
    "scrolled": true
   },
   "outputs": [
    {
     "data": {
      "text/plain": [
       "<AxesSubplot:xlabel='y', ylabel='price'>"
      ]
     },
     "execution_count": 23,
     "metadata": {},
     "output_type": "execute_result"
    },
    {
     "data": {
      "image/png": "[encoded data removed]",
      "text/plain": [
       "<Figure size 432x288 with 1 Axes>"
      ]
     },
     "metadata": {
      "needs_background": "light"
     },
     "output_type": "display_data"
    }
   ],
   "source": [
    "sns.regplot(x='y', y='price', data = diamonds)"
   ]
  },
  {
   "cell_type": "code",
   "execution_count": 24,
   "id": "1edf18ad",
   "metadata": {
    "ExecuteTime": {
     "end_time": "2023-02-17T19:23:07.545543Z",
     "start_time": "2023-02-17T19:23:04.268681Z"
    },
    "cell_style": "split"
   },
   "outputs": [
    {
     "data": {
      "text/plain": [
       "<AxesSubplot:xlabel='z', ylabel='price'>"
      ]
     },
     "execution_count": 24,
     "metadata": {},
     "output_type": "execute_result"
    },
    {
     "data": {
      "image/png": "[encoded data removed]",
      "text/plain": [
       "<Figure size 432x288 with 1 Axes>"
      ]
     },
     "metadata": {
      "needs_background": "light"
     },
     "output_type": "display_data"
    }
   ],
   "source": [
    "sns.regplot(x='z', y='price', data = diamonds)"
   ]
  },
  {
   "cell_type": "code",
   "execution_count": 63,
   "id": "9d1281b6",
   "metadata": {
    "ExecuteTime": {
     "end_time": "2023-02-17T20:23:07.592495Z",
     "start_time": "2023-02-17T20:23:01.777984Z"
    }
   },
   "outputs": [],
   "source": [
    "# Predicting different prices acording to \"cut\" types\n",
    "\n",
    "dict_cut = {}\n",
    "cut_list = diamonds['cut'].unique()\n",
    "\n",
    "for x in cut_list: \n",
    "    diamonds_cut = diamonds[diamonds['cut'] == x]\n",
    "    model = LinearRegression()\n",
    "    X = diamonds_cut[['carat','x', 'y', 'z']]\n",
    "    y = diamonds_cut['price']\n",
    "    model.fit(X, y)\n",
    "    dict_cut[x] = model\n",
    "    \n",
    "def previsao(data, dict_modelos):\n",
    "    return dict_modelos[data['cut']].predict(pd.DataFrame(data[['carat', 'x', 'y', 'z']]).T)[0] \n",
    "\n",
    "rick['price_predicted'] = rick.apply(previsao, axis = 1, dict_modelos = dict_cut)\n",
    "rick.to_csv('cut.csv', index = False)\n",
    "\n",
    "# RMSE: 1491.3342560112524"
   ]
  },
  {
   "cell_type": "code",
   "execution_count": 41,
   "id": "b65be3c5",
   "metadata": {
    "ExecuteTime": {
     "end_time": "2023-02-17T19:57:26.858929Z",
     "start_time": "2023-02-17T19:57:21.012217Z"
    }
   },
   "outputs": [],
   "source": [
    "# Predicting different prices acording to \"color\" types\n",
    "\n",
    "dict_colors = {}\n",
    "color_list = diamonds['color'].unique()\n",
    "\n",
    "for x in color_list: \n",
    "    diamonds_color = diamonds[diamonds['color'] == x]\n",
    "    model = LinearRegression()\n",
    "    X = diamonds_color[['carat','x', 'y', 'z']]\n",
    "    y = diamonds_color['price']\n",
    "    model.fit(X, y)\n",
    "    dict_colors[x] = model\n",
    "    \n",
    "def previsao(data, dict_modelos):\n",
    "    return dict_modelos[data['color']].predict(pd.DataFrame(data[['carat', 'x', 'y', 'z']]).T)[0] \n",
    "\n",
    "rick['price_predicted'] = rick.apply(previsao, axis = 1, dict_modelos = dict_colors)\n",
    "rick.to_csv('colors.csv', index = False)\n",
    "\n",
    "# RMSE: 1467.7035087447741"
   ]
  },
  {
   "cell_type": "code",
   "execution_count": 64,
   "id": "27e8169a",
   "metadata": {
    "ExecuteTime": {
     "end_time": "2023-02-17T20:34:22.104511Z",
     "start_time": "2023-02-17T20:34:16.643830Z"
    }
   },
   "outputs": [],
   "source": [
    "# Predicting different prices acording to \"clarity\" types\n",
    "\n",
    "dict_clarity = {}\n",
    "clarity_list = diamonds['clarity'].unique()\n",
    "\n",
    "for x in clarity_list: \n",
    "    diamonds_clearity = diamonds[diamonds['clarity'] == x]\n",
    "    model = LinearRegression()\n",
    "    X = diamonds_clarity[['carat','x', 'y', 'z']]\n",
    "    y = diamonds_clarity['price']\n",
    "    model.fit(X, y)\n",
    "    dict_clarity[x] = model\n",
    "    \n",
    "def previsao(data, dict_modelos):\n",
    "    return dict_modelos[data['clarity']].predict(pd.DataFrame(data[['carat', 'x', 'y', 'z']]).T)[0] \n",
    "\n",
    "rick['price_predicted'] = rick.apply(previsao, axis = 1, dict_modelos = dict_clarity)\n",
    "rick.to_csv('clarity.csv', index = False)\n",
    "\n",
    "# RMSE: 1139.8014071487905"
   ]
  }
 ],
 "metadata": {
  "kernelspec": {
   "display_name": "Python 3 (ipykernel)",
   "language": "python",
   "name": "python3"
  },
  "language_info": {
   "codemirror_mode": {
    "name": "ipython",
    "version": 3
   },
   "file_extension": ".py",
   "mimetype": "text/x-python",
   "name": "python",
   "nbconvert_exporter": "python",
   "pygments_lexer": "ipython3",
   "version": "3.9.12"
  },
  "toc": {
   "base_numbering": 1,
   "nav_menu": {},
   "number_sections": true,
   "sideBar": true,
   "skip_h1_title": false,
   "title_cell": "Table of Contents",
   "title_sidebar": "Contents",
   "toc_cell": false,
   "toc_position": {},
   "toc_section_display": true,
   "toc_window_display": false
  },
  "varInspector": {
   "cols": {
    "lenName": 16,
    "lenType": 16,
    "lenVar": 40
   },
   "kernels_config": {
    "python": {
     "delete_cmd_postfix": "",
     "delete_cmd_prefix": "del ",
     "library": "var_list.py",
     "varRefreshCmd": "print(var_dic_list())"
    },
    "r": {
     "delete_cmd_postfix": ") ",
     "delete_cmd_prefix": "rm(",
     "library": "var_list.r",
     "varRefreshCmd": "cat(var_dic_list()) "
    }
   },
   "types_to_exclude": [
    "module",
    "function",
    "builtin_function_or_method",
    "instance",
    "_Feature"
   ],
   "window_display": false
  }
 },
 "nbformat": 4,
 "nbformat_minor": 5
}
